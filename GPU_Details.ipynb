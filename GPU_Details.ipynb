{
 "cells": [
  {
   "cell_type": "code",
   "execution_count": 1,
   "metadata": {},
   "outputs": [
    {
     "name": "stdout",
     "output_type": "stream",
     "text": [
      "GPU ID: 0\n",
      "Name: NVIDIA GeForce MX330\n",
      "Memory Total: 2048.0MB\n",
      "Memory Free: 1969.0MB\n",
      "Memory Used: 0.0MB\n",
      "GPU Load: 0.0%\n",
      "Temperature: 60.0°C\n",
      "----------\n"
     ]
    }
   ],
   "source": [
    "import GPUtil\n",
    "\n",
    "# Get the list of all GPUs & its status\n",
    "gpus = GPUtil.getGPUs()\n",
    "\n",
    "# Print GPU information\n",
    "for gpu in gpus:\n",
    "    print(f\"GPU ID: {gpu.id}\")\n",
    "    print(f\"Name: {gpu.name}\")\n",
    "    print(f\"Memory Total: {gpu.memoryTotal}MB\")\n",
    "    print(f\"Memory Free: {gpu.memoryFree}MB\")\n",
    "    print(f\"Memory Used: {gpu.memoryUsed}MB\")\n",
    "    print(f\"GPU Load: {gpu.load * 100}%\")\n",
    "    print(f\"Temperature: {gpu.temperature}°C\")\n",
    "    print(\"----------\")\n"
   ]
  }
 ],
 "metadata": {
  "kernelspec": {
   "display_name": "py310gpu",
   "language": "python",
   "name": "python3"
  },
  "language_info": {
   "codemirror_mode": {
    "name": "ipython",
    "version": 3
   },
   "file_extension": ".py",
   "mimetype": "text/x-python",
   "name": "python",
   "nbconvert_exporter": "python",
   "pygments_lexer": "ipython3",
   "version": "3.9.15"
  }
 },
 "nbformat": 4,
 "nbformat_minor": 2
}
